{
 "cells": [
  {
   "cell_type": "code",
   "execution_count": 1,
   "id": "a0851b72",
   "metadata": {},
   "outputs": [],
   "source": [
    "import pandas as pd"
   ]
  },
  {
   "cell_type": "code",
   "execution_count": 5,
   "id": "3362a28f",
   "metadata": {},
   "outputs": [
    {
     "data": {
      "text/html": [
       "<div>\n",
       "<style scoped>\n",
       "    .dataframe tbody tr th:only-of-type {\n",
       "        vertical-align: middle;\n",
       "    }\n",
       "\n",
       "    .dataframe tbody tr th {\n",
       "        vertical-align: top;\n",
       "    }\n",
       "\n",
       "    .dataframe thead th {\n",
       "        text-align: right;\n",
       "    }\n",
       "</style>\n",
       "<table border=\"1\" class=\"dataframe\">\n",
       "  <thead>\n",
       "    <tr style=\"text-align: right;\">\n",
       "      <th></th>\n",
       "      <th>data</th>\n",
       "    </tr>\n",
       "  </thead>\n",
       "  <tbody>\n",
       "    <tr>\n",
       "      <th>0</th>\n",
       "      <td>Energy at Origins: Favorable Thermodynamics of...</td>\n",
       "    </tr>\n",
       "    <tr>\n",
       "      <th>1</th>\n",
       "      <td>Evolution of brilliant iridescent feather nano...</td>\n",
       "    </tr>\n",
       "    <tr>\n",
       "      <th>2</th>\n",
       "      <td>Cortical thickness abnormalities in patients w...</td>\n",
       "    </tr>\n",
       "    <tr>\n",
       "      <th>3</th>\n",
       "      <td>Scientists Tested Cats With Scooped Out Eyebal...</td>\n",
       "    </tr>\n",
       "    <tr>\n",
       "      <th>4</th>\n",
       "      <td>We continue to evolve: more and more human bei...</td>\n",
       "    </tr>\n",
       "    <tr>\n",
       "      <th>...</th>\n",
       "      <td>...</td>\n",
       "    </tr>\n",
       "    <tr>\n",
       "      <th>21395</th>\n",
       "      <td>New study shows higher rate of fractures in pe...</td>\n",
       "    </tr>\n",
       "    <tr>\n",
       "      <th>21396</th>\n",
       "      <td>Research on sexual and social expectations of ...</td>\n",
       "    </tr>\n",
       "    <tr>\n",
       "      <th>21397</th>\n",
       "      <td>Traumatic brain injury ‘remains a major global...</td>\n",
       "    </tr>\n",
       "    <tr>\n",
       "      <th>21398</th>\n",
       "      <td>Our cities are warming and urban greenery coul...</td>\n",
       "    </tr>\n",
       "    <tr>\n",
       "      <th>21399</th>\n",
       "      <td>“Our results state, resoundingly, that the mos...</td>\n",
       "    </tr>\n",
       "  </tbody>\n",
       "</table>\n",
       "<p>21400 rows × 1 columns</p>\n",
       "</div>"
      ],
      "text/plain": [
       "                                                    data\n",
       "0      Energy at Origins: Favorable Thermodynamics of...\n",
       "1      Evolution of brilliant iridescent feather nano...\n",
       "2      Cortical thickness abnormalities in patients w...\n",
       "3      Scientists Tested Cats With Scooped Out Eyebal...\n",
       "4      We continue to evolve: more and more human bei...\n",
       "...                                                  ...\n",
       "21395  New study shows higher rate of fractures in pe...\n",
       "21396  Research on sexual and social expectations of ...\n",
       "21397  Traumatic brain injury ‘remains a major global...\n",
       "21398  Our cities are warming and urban greenery coul...\n",
       "21399  “Our results state, resoundingly, that the mos...\n",
       "\n",
       "[21400 rows x 1 columns]"
      ]
     },
     "execution_count": 5,
     "metadata": {},
     "output_type": "execute_result"
    }
   ],
   "source": [
    "data = pd.read_csv(r'../data_total.csv')\n",
    "data"
   ]
  },
  {
   "cell_type": "markdown",
   "id": "80a9a1eb",
   "metadata": {},
   "source": [
    "# lengths"
   ]
  },
  {
   "cell_type": "code",
   "execution_count": 6,
   "id": "ebf5ff29",
   "metadata": {},
   "outputs": [],
   "source": [
    "data_len = []\n",
    "data_len_index = []\n",
    "for i in range(len(data)):\n",
    "    data_len.append(len(data.iloc[i]['data'].split()))\n",
    "    if data_len[i] > 1000:\n",
    "        data_len_index.append(i)"
   ]
  },
  {
   "cell_type": "code",
   "execution_count": 8,
   "id": "b85ce048",
   "metadata": {},
   "outputs": [
    {
     "data": {
      "text/plain": [
       "[276589,\n",
       " 259846,\n",
       " 250195,\n",
       " 196796,\n",
       " 188296,\n",
       " 180294,\n",
       " 166917,\n",
       " 160112,\n",
       " 151254,\n",
       " 149969,\n",
       " 149601,\n",
       " 148330,\n",
       " 135526,\n",
       " 125953,\n",
       " 118787]"
      ]
     },
     "execution_count": 8,
     "metadata": {},
     "output_type": "execute_result"
    }
   ],
   "source": [
    "data_len.sort(reverse=True)\n",
    "data_len[:15]"
   ]
  },
  {
   "cell_type": "code",
   "execution_count": 5,
   "id": "02115da6",
   "metadata": {},
   "outputs": [
    {
     "data": {
      "text/plain": [
       "21400"
      ]
     },
     "execution_count": 5,
     "metadata": {},
     "output_type": "execute_result"
    }
   ],
   "source": [
    "len(data_len)"
   ]
  },
  {
   "cell_type": "code",
   "execution_count": 6,
   "id": "c092886c",
   "metadata": {},
   "outputs": [
    {
     "data": {
      "text/plain": [
       "3453"
      ]
     },
     "execution_count": 6,
     "metadata": {},
     "output_type": "execute_result"
    }
   ],
   "source": [
    "data_len_w_c = [e for e in data_len if e > 1000]\n",
    "len(data_len_w_c)"
   ]
  },
  {
   "cell_type": "code",
   "execution_count": 7,
   "id": "495ff151",
   "metadata": {},
   "outputs": [],
   "source": [
    "for i in range(len(data_len_index)):\n",
    "    data"
   ]
  },
  {
   "cell_type": "code",
   "execution_count": 8,
   "id": "9b7c1ce8",
   "metadata": {},
   "outputs": [
    {
     "data": {
      "text/plain": [
       "17947"
      ]
     },
     "execution_count": 8,
     "metadata": {},
     "output_type": "execute_result"
    }
   ],
   "source": [
    "df1 = data.drop(data_len_index)\n",
    "len(df1)"
   ]
  },
  {
   "cell_type": "markdown",
   "id": "9c3843d4",
   "metadata": {},
   "source": [
    "# crop"
   ]
  },
  {
   "cell_type": "code",
   "execution_count": 16,
   "id": "b66e33f7",
   "metadata": {},
   "outputs": [],
   "source": [
    "def listToString(s):\n",
    "    str1 = \"\"\n",
    "    for ele in s:\n",
    "        str1 += ele\n",
    "        str1 += \" \"\n",
    " \n",
    "    return str1"
   ]
  },
  {
   "cell_type": "code",
   "execution_count": 17,
   "id": "74733d70",
   "metadata": {},
   "outputs": [],
   "source": [
    "for i in range(len(data)):\n",
    "    d_i_list = data.iloc[i]['data'].split()\n",
    "    if len(d_i_list) > 1000:\n",
    "        crop_d_i_list = [d_i_list[x] for x in range(len(d_i_list)) if x < 100000]\n",
    "        data.at[i,'data'] = listToString(crop_d_i_list)"
   ]
  },
  {
   "cell_type": "code",
   "execution_count": 18,
   "id": "48dbe1f4",
   "metadata": {},
   "outputs": [],
   "source": [
    "data_len = []\n",
    "for i in range(len(data)):\n",
    "    data_len.append(len(data.iloc[i]['data'].split()))"
   ]
  },
  {
   "cell_type": "code",
   "execution_count": null,
   "id": "a6f156bf",
   "metadata": {},
   "outputs": [],
   "source": [
    "print(len(data.iloc[19000]['data'].split()))\n",
    "print(data.iloc[19000]['data'])"
   ]
  },
  {
   "cell_type": "code",
   "execution_count": null,
   "id": "053cbc04",
   "metadata": {},
   "outputs": [],
   "source": [
    "data_len.sort(reverse=True)\n",
    "data_len"
   ]
  },
  {
   "cell_type": "code",
   "execution_count": null,
   "id": "7fb419d2",
   "metadata": {},
   "outputs": [],
   "source": [
    "data_len.sort(reverse=False)\n",
    "data_len"
   ]
  },
  {
   "cell_type": "code",
   "execution_count": 22,
   "id": "db007cb4",
   "metadata": {},
   "outputs": [
    {
     "data": {
      "text/plain": [
       "21400"
      ]
     },
     "execution_count": 22,
     "metadata": {},
     "output_type": "execute_result"
    }
   ],
   "source": [
    "len(data_len)"
   ]
  },
  {
   "cell_type": "code",
   "execution_count": 23,
   "id": "d4dcb36b",
   "metadata": {},
   "outputs": [
    {
     "name": "stdout",
     "output_type": "stream",
     "text": [
      "2469\n"
     ]
    }
   ],
   "source": [
    "count = 0\n",
    "new_data = []\n",
    "for i in range(len(data)):\n",
    "    if len(data.iloc[i]['data'].split()) < 10:\n",
    "        count+=1\n",
    "    else:\n",
    "        new_data.append(data.iloc[i]['data'])\n",
    "print(count)"
   ]
  },
  {
   "cell_type": "code",
   "execution_count": 24,
   "id": "df6814ed",
   "metadata": {},
   "outputs": [
    {
     "name": "stdout",
     "output_type": "stream",
     "text": [
      "18931\n"
     ]
    }
   ],
   "source": [
    "print(len(new_data))"
   ]
  },
  {
   "cell_type": "code",
   "execution_count": 25,
   "id": "521c8cd8",
   "metadata": {},
   "outputs": [],
   "source": [
    "new_data = pd.DataFrame(new_data)\n",
    "new_data.to_csv(\"data_total_longest_100000.csv\", index=False)"
   ]
  },
  {
   "cell_type": "code",
   "execution_count": null,
   "id": "c8828a5b",
   "metadata": {},
   "outputs": [],
   "source": []
  }
 ],
 "metadata": {
  "kernelspec": {
   "display_name": "Python 3 (ipykernel)",
   "language": "python",
   "name": "python3"
  },
  "language_info": {
   "codemirror_mode": {
    "name": "ipython",
    "version": 3
   },
   "file_extension": ".py",
   "mimetype": "text/x-python",
   "name": "python",
   "nbconvert_exporter": "python",
   "pygments_lexer": "ipython3",
   "version": "3.11.3"
  }
 },
 "nbformat": 4,
 "nbformat_minor": 5
}
