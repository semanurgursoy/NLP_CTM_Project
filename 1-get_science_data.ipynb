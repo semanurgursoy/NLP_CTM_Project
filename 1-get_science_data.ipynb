{
 "cells": [
  {
   "cell_type": "code",
   "execution_count": 3,
   "id": "905044e6",
   "metadata": {},
   "outputs": [
    {
     "name": "stdout",
     "output_type": "stream",
     "text": [
      "Requirement already satisfied: wget in c:\\users\\sema\\anaconda3\\lib\\site-packages (3.2)\n"
     ]
    }
   ],
   "source": [
    "!pip install wget"
   ]
  },
  {
   "cell_type": "code",
   "execution_count": 7,
   "id": "dd963c8a",
   "metadata": {},
   "outputs": [
    {
     "name": "stdout",
     "output_type": "stream",
     "text": [
      "100% [........................................................................] 51689085 / 51689085RS_2010-06.zst\n"
     ]
    }
   ],
   "source": [
    "import wget\n",
    "url = 'http://repo.pushshift.io/reddit/submissions/RS_2010-06.zst'\n",
    "filename = wget.download(url)\n",
    "print(filename)"
   ]
  },
  {
   "cell_type": "code",
   "execution_count": 10,
   "id": "346dde4e",
   "metadata": {},
   "outputs": [
    {
     "name": "stdout",
     "output_type": "stream",
     "text": [
      "Requirement already satisfied: zstd in c:\\users\\sema\\appdata\\local\\programs\\python\\python311\\lib\\site-packages (1.5.5.1)\n"
     ]
    }
   ],
   "source": [
    "!pip3 install zstd"
   ]
  },
  {
   "cell_type": "code",
   "execution_count": 11,
   "id": "8c344b53",
   "metadata": {},
   "outputs": [
    {
     "name": "stderr",
     "output_type": "stream",
     "text": [
      "'zstd' is not recognized as an internal or external command,\n",
      "operable program or batch file.\n"
     ]
    }
   ],
   "source": [
    "!zstd -d RC_2005-12.zst --long=31 "
   ]
  },
  {
   "cell_type": "code",
   "execution_count": 1,
   "id": "af6175ef",
   "metadata": {},
   "outputs": [],
   "source": [
    "import os\n",
    "import json\n",
    "from pathlib import Path"
   ]
  },
  {
   "cell_type": "code",
   "execution_count": 2,
   "id": "7708475f",
   "metadata": {},
   "outputs": [],
   "source": [
    "os.chdir(r'D:\\07')\n",
    "files = os.listdir()"
   ]
  },
  {
   "cell_type": "code",
   "execution_count": 3,
   "id": "d341ba34",
   "metadata": {},
   "outputs": [],
   "source": [
    "science_objects=[]\n",
    "count=0"
   ]
  },
  {
   "cell_type": "code",
   "execution_count": 4,
   "id": "78b61b70",
   "metadata": {
    "scrolled": false
   },
   "outputs": [],
   "source": [
    "for file in files:\n",
    "    paragraph = Path(file).read_text(encoding='utf-8')\n",
    "    objects = paragraph.split(\"\\n\")\n",
    "    objects.pop()\n",
    "    objects.pop()\n",
    "    for index, obj in enumerate(objects):\n",
    "        json_object = json.loads(objects[index])\n",
    "        if json_object['subreddit_id'] == 't5_mouw':\n",
    "            science_objects.append(json_object)"
   ]
  },
  {
   "cell_type": "code",
   "execution_count": 6,
   "id": "e3636225",
   "metadata": {},
   "outputs": [
    {
     "data": {
      "text/plain": [
       "193909"
      ]
     },
     "execution_count": 6,
     "metadata": {},
     "output_type": "execute_result"
    }
   ],
   "source": [
    "len(science_objects)"
   ]
  },
  {
   "cell_type": "code",
   "execution_count": 9,
   "id": "75b8a25d",
   "metadata": {},
   "outputs": [],
   "source": [
    "import pandas as pd"
   ]
  },
  {
   "cell_type": "code",
   "execution_count": 10,
   "id": "ed402bfa",
   "metadata": {},
   "outputs": [],
   "source": [
    "df = pd.DataFrame(science_objects)"
   ]
  },
  {
   "cell_type": "code",
   "execution_count": 11,
   "id": "42418047",
   "metadata": {},
   "outputs": [],
   "source": [
    "df.to_csv('comments_07.csv')"
   ]
  },
  {
   "cell_type": "code",
   "execution_count": 12,
   "id": "5fd214cc",
   "metadata": {},
   "outputs": [],
   "source": [
    "comments = df['body']"
   ]
  },
  {
   "cell_type": "code",
   "execution_count": 13,
   "id": "3ca142c2",
   "metadata": {},
   "outputs": [],
   "source": [
    "comments.to_csv('science_comments_07.csv')"
   ]
  }
 ],
 "metadata": {
  "kernelspec": {
   "display_name": "Python 3 (ipykernel)",
   "language": "python",
   "name": "python3"
  },
  "language_info": {
   "codemirror_mode": {
    "name": "ipython",
    "version": 3
   },
   "file_extension": ".py",
   "mimetype": "text/x-python",
   "name": "python",
   "nbconvert_exporter": "python",
   "pygments_lexer": "ipython3",
   "version": "3.11.3"
  }
 },
 "nbformat": 4,
 "nbformat_minor": 5
}
